{
  "nbformat": 4,
  "nbformat_minor": 0,
  "metadata": {
    "colab": {
      "name": "LSTM.ipynb",
      "provenance": []
    },
    "kernelspec": {
      "name": "python3",
      "display_name": "Python 3"
    },
    "language_info": {
      "name": "python"
    }
  },
  "cells": [
    {
      "cell_type": "code",
      "metadata": {
        "id": "981NizMogZl4",
        "colab": {
          "base_uri": "https://localhost:8080/"
        },
        "outputId": "d9091eb1-80f3-48b6-daa0-3865ac73235c"
      },
      "source": [
        "!git clone --recursive https://github.com/Rithik-Alias/Analysis-on-covid-data.git\n",
        "%cd /content/Analysis-on-covid-data"
      ],
      "execution_count": 2,
      "outputs": [
        {
          "output_type": "stream",
          "text": [
            "Cloning into 'Analysis-on-covid-data'...\n",
            "remote: Enumerating objects: 6, done.\u001b[K\n",
            "remote: Counting objects:  16% (1/6)\u001b[K\rremote: Counting objects:  33% (2/6)\u001b[K\rremote: Counting objects:  50% (3/6)\u001b[K\rremote: Counting objects:  66% (4/6)\u001b[K\rremote: Counting objects:  83% (5/6)\u001b[K\rremote: Counting objects: 100% (6/6)\u001b[K\rremote: Counting objects: 100% (6/6), done.\u001b[K\n",
            "remote: Compressing objects: 100% (5/5), done.\u001b[K\n",
            "remote: Total 6 (delta 0), reused 0 (delta 0), pack-reused 0\u001b[K\n",
            "Unpacking objects: 100% (6/6), done.\n",
            "/content/Analysis-on-covid-data\n"
          ],
          "name": "stdout"
        }
      ]
    },
    {
      "cell_type": "code",
      "metadata": {
        "id": "maj04Jf5liet"
      },
      "source": [
        "import numpy as np\n",
        "import matplotlib.pyplot as plt\n",
        "import pandas as pd\n",
        "import math\n",
        "from keras.models import Sequential\n",
        "from keras.layers import Dense\n",
        "from keras.layers import LSTM\n",
        "from sklearn.preprocessing import MinMaxScaler\n",
        "from sklearn.metrics import mean_squared_error"
      ],
      "execution_count": 3,
      "outputs": []
    },
    {
      "cell_type": "code",
      "metadata": {
        "colab": {
          "base_uri": "https://localhost:8080/",
          "height": 413
        },
        "id": "YtvcAb5v3w0S",
        "outputId": "a630c878-1e41-4ca2-cc5d-4e60c4439bf9"
      },
      "source": [
        "covid = pd.read_csv('covid19_italy_region.csv',parse_dates=['Date'],index_col='Date')\n",
        "covid.head()"
      ],
      "execution_count": 4,
      "outputs": [
        {
          "output_type": "execute_result",
          "data": {
            "text/html": [
              "<div>\n",
              "<style scoped>\n",
              "    .dataframe tbody tr th:only-of-type {\n",
              "        vertical-align: middle;\n",
              "    }\n",
              "\n",
              "    .dataframe tbody tr th {\n",
              "        vertical-align: top;\n",
              "    }\n",
              "\n",
              "    .dataframe thead th {\n",
              "        text-align: right;\n",
              "    }\n",
              "</style>\n",
              "<table border=\"1\" class=\"dataframe\">\n",
              "  <thead>\n",
              "    <tr style=\"text-align: right;\">\n",
              "      <th></th>\n",
              "      <th>SNo</th>\n",
              "      <th>Country</th>\n",
              "      <th>RegionCode</th>\n",
              "      <th>RegionName</th>\n",
              "      <th>Latitude</th>\n",
              "      <th>Longitude</th>\n",
              "      <th>HospitalizedPatients</th>\n",
              "      <th>IntensiveCarePatients</th>\n",
              "      <th>TotalHospitalizedPatients</th>\n",
              "      <th>HomeConfinement</th>\n",
              "      <th>CurrentPositiveCases</th>\n",
              "      <th>NewPositiveCases</th>\n",
              "      <th>Recovered</th>\n",
              "      <th>Deaths</th>\n",
              "      <th>TotalPositiveCases</th>\n",
              "      <th>TestsPerformed</th>\n",
              "    </tr>\n",
              "    <tr>\n",
              "      <th>Date</th>\n",
              "      <th></th>\n",
              "      <th></th>\n",
              "      <th></th>\n",
              "      <th></th>\n",
              "      <th></th>\n",
              "      <th></th>\n",
              "      <th></th>\n",
              "      <th></th>\n",
              "      <th></th>\n",
              "      <th></th>\n",
              "      <th></th>\n",
              "      <th></th>\n",
              "      <th></th>\n",
              "      <th></th>\n",
              "      <th></th>\n",
              "      <th></th>\n",
              "    </tr>\n",
              "  </thead>\n",
              "  <tbody>\n",
              "    <tr>\n",
              "      <th>2020-02-24 18:00:00</th>\n",
              "      <td>0</td>\n",
              "      <td>ITA</td>\n",
              "      <td>13</td>\n",
              "      <td>Abruzzo</td>\n",
              "      <td>42.351222</td>\n",
              "      <td>13.398438</td>\n",
              "      <td>0</td>\n",
              "      <td>0</td>\n",
              "      <td>0</td>\n",
              "      <td>0</td>\n",
              "      <td>0</td>\n",
              "      <td>0</td>\n",
              "      <td>0</td>\n",
              "      <td>0</td>\n",
              "      <td>0</td>\n",
              "      <td>NaN</td>\n",
              "    </tr>\n",
              "    <tr>\n",
              "      <th>2020-02-24 18:00:00</th>\n",
              "      <td>1</td>\n",
              "      <td>ITA</td>\n",
              "      <td>17</td>\n",
              "      <td>Basilicata</td>\n",
              "      <td>40.639471</td>\n",
              "      <td>15.805148</td>\n",
              "      <td>0</td>\n",
              "      <td>0</td>\n",
              "      <td>0</td>\n",
              "      <td>0</td>\n",
              "      <td>0</td>\n",
              "      <td>0</td>\n",
              "      <td>0</td>\n",
              "      <td>0</td>\n",
              "      <td>0</td>\n",
              "      <td>NaN</td>\n",
              "    </tr>\n",
              "    <tr>\n",
              "      <th>2020-02-24 18:00:00</th>\n",
              "      <td>2</td>\n",
              "      <td>ITA</td>\n",
              "      <td>18</td>\n",
              "      <td>Calabria</td>\n",
              "      <td>38.905976</td>\n",
              "      <td>16.594402</td>\n",
              "      <td>0</td>\n",
              "      <td>0</td>\n",
              "      <td>0</td>\n",
              "      <td>0</td>\n",
              "      <td>0</td>\n",
              "      <td>0</td>\n",
              "      <td>0</td>\n",
              "      <td>0</td>\n",
              "      <td>0</td>\n",
              "      <td>NaN</td>\n",
              "    </tr>\n",
              "    <tr>\n",
              "      <th>2020-02-24 18:00:00</th>\n",
              "      <td>3</td>\n",
              "      <td>ITA</td>\n",
              "      <td>15</td>\n",
              "      <td>Campania</td>\n",
              "      <td>40.839566</td>\n",
              "      <td>14.250850</td>\n",
              "      <td>0</td>\n",
              "      <td>0</td>\n",
              "      <td>0</td>\n",
              "      <td>0</td>\n",
              "      <td>0</td>\n",
              "      <td>0</td>\n",
              "      <td>0</td>\n",
              "      <td>0</td>\n",
              "      <td>0</td>\n",
              "      <td>NaN</td>\n",
              "    </tr>\n",
              "    <tr>\n",
              "      <th>2020-02-24 18:00:00</th>\n",
              "      <td>4</td>\n",
              "      <td>ITA</td>\n",
              "      <td>8</td>\n",
              "      <td>Emilia-Romagna</td>\n",
              "      <td>44.494367</td>\n",
              "      <td>11.341721</td>\n",
              "      <td>10</td>\n",
              "      <td>2</td>\n",
              "      <td>12</td>\n",
              "      <td>6</td>\n",
              "      <td>18</td>\n",
              "      <td>18</td>\n",
              "      <td>0</td>\n",
              "      <td>0</td>\n",
              "      <td>18</td>\n",
              "      <td>NaN</td>\n",
              "    </tr>\n",
              "  </tbody>\n",
              "</table>\n",
              "</div>"
            ],
            "text/plain": [
              "                     SNo Country  ...  TotalPositiveCases TestsPerformed\n",
              "Date                              ...                                   \n",
              "2020-02-24 18:00:00    0     ITA  ...                   0            NaN\n",
              "2020-02-24 18:00:00    1     ITA  ...                   0            NaN\n",
              "2020-02-24 18:00:00    2     ITA  ...                   0            NaN\n",
              "2020-02-24 18:00:00    3     ITA  ...                   0            NaN\n",
              "2020-02-24 18:00:00    4     ITA  ...                  18            NaN\n",
              "\n",
              "[5 rows x 16 columns]"
            ]
          },
          "metadata": {
            "tags": []
          },
          "execution_count": 4
        }
      ]
    },
    {
      "cell_type": "code",
      "metadata": {
        "colab": {
          "base_uri": "https://localhost:8080/",
          "height": 431
        },
        "id": "9hNBIVR54E95",
        "outputId": "1bc979a0-437f-46e6-8644-fbca0fe79c97"
      },
      "source": [
        "time_series = covid[['NewPositiveCases']]\n",
        "time_series"
      ],
      "execution_count": null,
      "outputs": [
        {
          "output_type": "execute_result",
          "data": {
            "text/html": [
              "<div>\n",
              "<style scoped>\n",
              "    .dataframe tbody tr th:only-of-type {\n",
              "        vertical-align: middle;\n",
              "    }\n",
              "\n",
              "    .dataframe tbody tr th {\n",
              "        vertical-align: top;\n",
              "    }\n",
              "\n",
              "    .dataframe thead th {\n",
              "        text-align: right;\n",
              "    }\n",
              "</style>\n",
              "<table border=\"1\" class=\"dataframe\">\n",
              "  <thead>\n",
              "    <tr style=\"text-align: right;\">\n",
              "      <th></th>\n",
              "      <th>NewPositiveCases</th>\n",
              "    </tr>\n",
              "    <tr>\n",
              "      <th>Date</th>\n",
              "      <th></th>\n",
              "    </tr>\n",
              "  </thead>\n",
              "  <tbody>\n",
              "    <tr>\n",
              "      <th>2020-02-24 18:00:00</th>\n",
              "      <td>0</td>\n",
              "    </tr>\n",
              "    <tr>\n",
              "      <th>2020-02-24 18:00:00</th>\n",
              "      <td>0</td>\n",
              "    </tr>\n",
              "    <tr>\n",
              "      <th>2020-02-24 18:00:00</th>\n",
              "      <td>0</td>\n",
              "    </tr>\n",
              "    <tr>\n",
              "      <th>2020-02-24 18:00:00</th>\n",
              "      <td>0</td>\n",
              "    </tr>\n",
              "    <tr>\n",
              "      <th>2020-02-24 18:00:00</th>\n",
              "      <td>18</td>\n",
              "    </tr>\n",
              "    <tr>\n",
              "      <th>...</th>\n",
              "      <td>...</td>\n",
              "    </tr>\n",
              "    <tr>\n",
              "      <th>2020-12-06 17:00:00</th>\n",
              "      <td>1022</td>\n",
              "    </tr>\n",
              "    <tr>\n",
              "      <th>2020-12-06 17:00:00</th>\n",
              "      <td>753</td>\n",
              "    </tr>\n",
              "    <tr>\n",
              "      <th>2020-12-06 17:00:00</th>\n",
              "      <td>234</td>\n",
              "    </tr>\n",
              "    <tr>\n",
              "      <th>2020-12-06 17:00:00</th>\n",
              "      <td>34</td>\n",
              "    </tr>\n",
              "    <tr>\n",
              "      <th>2020-12-06 17:00:00</th>\n",
              "      <td>3444</td>\n",
              "    </tr>\n",
              "  </tbody>\n",
              "</table>\n",
              "<p>6027 rows × 1 columns</p>\n",
              "</div>"
            ],
            "text/plain": [
              "                     NewPositiveCases\n",
              "Date                                 \n",
              "2020-02-24 18:00:00                 0\n",
              "2020-02-24 18:00:00                 0\n",
              "2020-02-24 18:00:00                 0\n",
              "2020-02-24 18:00:00                 0\n",
              "2020-02-24 18:00:00                18\n",
              "...                               ...\n",
              "2020-12-06 17:00:00              1022\n",
              "2020-12-06 17:00:00               753\n",
              "2020-12-06 17:00:00               234\n",
              "2020-12-06 17:00:00                34\n",
              "2020-12-06 17:00:00              3444\n",
              "\n",
              "[6027 rows x 1 columns]"
            ]
          },
          "metadata": {
            "tags": []
          },
          "execution_count": 30
        }
      ]
    },
    {
      "cell_type": "code",
      "metadata": {
        "id": "RvgqD0wy4Kl0"
      },
      "source": [
        "time_series = time_series.groupby('Date').mean()\n"
      ],
      "execution_count": null,
      "outputs": []
    },
    {
      "cell_type": "code",
      "metadata": {
        "colab": {
          "base_uri": "https://localhost:8080/",
          "height": 225
        },
        "id": "rlBXRTpq4Pzj",
        "outputId": "5072270e-69dd-4d77-912c-b4186e8d49b7"
      },
      "source": [
        "time_series.head()"
      ],
      "execution_count": null,
      "outputs": [
        {
          "output_type": "execute_result",
          "data": {
            "text/html": [
              "<div>\n",
              "<style scoped>\n",
              "    .dataframe tbody tr th:only-of-type {\n",
              "        vertical-align: middle;\n",
              "    }\n",
              "\n",
              "    .dataframe tbody tr th {\n",
              "        vertical-align: top;\n",
              "    }\n",
              "\n",
              "    .dataframe thead th {\n",
              "        text-align: right;\n",
              "    }\n",
              "</style>\n",
              "<table border=\"1\" class=\"dataframe\">\n",
              "  <thead>\n",
              "    <tr style=\"text-align: right;\">\n",
              "      <th></th>\n",
              "      <th>NewPositiveCases</th>\n",
              "    </tr>\n",
              "    <tr>\n",
              "      <th>Date</th>\n",
              "      <th></th>\n",
              "    </tr>\n",
              "  </thead>\n",
              "  <tbody>\n",
              "    <tr>\n",
              "      <th>2020-02-24 18:00:00</th>\n",
              "      <td>10.523810</td>\n",
              "    </tr>\n",
              "    <tr>\n",
              "      <th>2020-02-25 18:00:00</th>\n",
              "      <td>4.428571</td>\n",
              "    </tr>\n",
              "    <tr>\n",
              "      <th>2020-02-26 18:00:00</th>\n",
              "      <td>3.714286</td>\n",
              "    </tr>\n",
              "    <tr>\n",
              "      <th>2020-02-27 18:00:00</th>\n",
              "      <td>11.904762</td>\n",
              "    </tr>\n",
              "    <tr>\n",
              "      <th>2020-02-28 18:00:00</th>\n",
              "      <td>11.333333</td>\n",
              "    </tr>\n",
              "  </tbody>\n",
              "</table>\n",
              "</div>"
            ],
            "text/plain": [
              "                     NewPositiveCases\n",
              "Date                                 \n",
              "2020-02-24 18:00:00         10.523810\n",
              "2020-02-25 18:00:00          4.428571\n",
              "2020-02-26 18:00:00          3.714286\n",
              "2020-02-27 18:00:00         11.904762\n",
              "2020-02-28 18:00:00         11.333333"
            ]
          },
          "metadata": {
            "tags": []
          },
          "execution_count": 32
        }
      ]
    },
    {
      "cell_type": "code",
      "metadata": {
        "id": "6VAdLJd12EwD"
      },
      "source": [
        "np.random.seed(7)"
      ],
      "execution_count": null,
      "outputs": []
    },
    {
      "cell_type": "code",
      "metadata": {
        "id": "PlIhMf_D3q10"
      },
      "source": [
        "dataset = time_series.values\n",
        "dataset = dataset.astype('float32')"
      ],
      "execution_count": null,
      "outputs": []
    },
    {
      "cell_type": "code",
      "metadata": {
        "id": "Bj8XJjxH4evT"
      },
      "source": [
        "# normalize the dataset\n",
        "scaler = MinMaxScaler(feature_range=(0, 1))\n",
        "dataset = scaler.fit_transform(dataset)"
      ],
      "execution_count": null,
      "outputs": []
    },
    {
      "cell_type": "code",
      "metadata": {
        "colab": {
          "base_uri": "https://localhost:8080/"
        },
        "id": "EihUz6xy4qWz",
        "outputId": "19f14670-f7cf-499d-ca29-9586272a4d25"
      },
      "source": [
        "# split into train and test sets\n",
        "train_size = int(len(dataset) * 0.67)\n",
        "test_size = len(dataset) - train_size\n",
        "train, test = dataset[0:train_size,:], dataset[train_size:len(dataset),:]\n",
        "print(len(train), len(test))"
      ],
      "execution_count": null,
      "outputs": [
        {
          "output_type": "stream",
          "text": [
            "192 95\n"
          ],
          "name": "stdout"
        }
      ]
    },
    {
      "cell_type": "code",
      "metadata": {
        "id": "9xfRRIEP4wzD"
      },
      "source": [
        "# convert an array of values into a dataset matrix\n",
        "def create_dataset(dataset, look_back=1):\n",
        "\tdataX, dataY = [], []\n",
        "\tfor i in range(len(dataset)-look_back-1):\n",
        "\t\ta = dataset[i:(i+look_back), 0]\n",
        "\t\tdataX.append(a)\n",
        "\t\tdataY.append(dataset[i + look_back, 0])\n",
        "\treturn np.array(dataX), np.array(dataY)"
      ],
      "execution_count": null,
      "outputs": []
    },
    {
      "cell_type": "code",
      "metadata": {
        "id": "n6Pe3RHL44W-"
      },
      "source": [
        "# reshape into X=t and Y=t+1\n",
        "look_back = 1\n",
        "trainX, trainY = create_dataset(train, look_back)\n",
        "testX, testY = create_dataset(test, look_back)"
      ],
      "execution_count": null,
      "outputs": []
    },
    {
      "cell_type": "code",
      "metadata": {
        "id": "s8PA3vNg5LVW"
      },
      "source": [
        "# reshape input to be [samples, time steps, features]\n",
        "trainX = np.reshape(trainX, (trainX.shape[0], 1, trainX.shape[1]))\n",
        "testX = np.reshape(testX, (testX.shape[0], 1, testX.shape[1]))"
      ],
      "execution_count": null,
      "outputs": []
    },
    {
      "cell_type": "code",
      "metadata": {
        "colab": {
          "base_uri": "https://localhost:8080/"
        },
        "id": "a4Z32D7a5Q_c",
        "outputId": "25bbaa91-68aa-4886-e284-37c030da1aa6"
      },
      "source": [
        "# create and fit the LSTM network\n",
        "model = Sequential()\n",
        "model.add(LSTM(4, input_shape=(1, look_back)))\n",
        "model.add(Dense(1))\n",
        "model.compile(loss='mean_squared_error', optimizer='adam')\n",
        "model.fit(trainX, trainY, epochs=100, batch_size=1, verbose=2)"
      ],
      "execution_count": null,
      "outputs": [
        {
          "output_type": "stream",
          "text": [
            "Epoch 1/100\n",
            "190/190 - 2s - loss: 0.0020\n",
            "Epoch 2/100\n",
            "190/190 - 0s - loss: 0.0017\n",
            "Epoch 3/100\n",
            "190/190 - 0s - loss: 0.0015\n",
            "Epoch 4/100\n",
            "190/190 - 0s - loss: 0.0013\n",
            "Epoch 5/100\n",
            "190/190 - 0s - loss: 0.0011\n",
            "Epoch 6/100\n",
            "190/190 - 0s - loss: 9.0739e-04\n",
            "Epoch 7/100\n",
            "190/190 - 0s - loss: 6.5413e-04\n",
            "Epoch 8/100\n",
            "190/190 - 0s - loss: 4.7431e-04\n",
            "Epoch 9/100\n",
            "190/190 - 0s - loss: 3.1774e-04\n",
            "Epoch 10/100\n",
            "190/190 - 0s - loss: 1.8476e-04\n",
            "Epoch 11/100\n",
            "190/190 - 0s - loss: 1.2446e-04\n",
            "Epoch 12/100\n",
            "190/190 - 0s - loss: 9.9728e-05\n",
            "Epoch 13/100\n",
            "190/190 - 0s - loss: 8.4600e-05\n",
            "Epoch 14/100\n",
            "190/190 - 0s - loss: 7.9554e-05\n",
            "Epoch 15/100\n",
            "190/190 - 0s - loss: 8.2311e-05\n",
            "Epoch 16/100\n",
            "190/190 - 0s - loss: 8.2791e-05\n",
            "Epoch 17/100\n",
            "190/190 - 0s - loss: 8.4451e-05\n",
            "Epoch 18/100\n",
            "190/190 - 0s - loss: 8.2919e-05\n",
            "Epoch 19/100\n",
            "190/190 - 0s - loss: 8.4352e-05\n",
            "Epoch 20/100\n",
            "190/190 - 0s - loss: 8.3567e-05\n",
            "Epoch 21/100\n",
            "190/190 - 0s - loss: 8.0220e-05\n",
            "Epoch 22/100\n",
            "190/190 - 0s - loss: 8.4887e-05\n",
            "Epoch 23/100\n",
            "190/190 - 0s - loss: 8.6784e-05\n",
            "Epoch 24/100\n",
            "190/190 - 0s - loss: 8.4715e-05\n",
            "Epoch 25/100\n",
            "190/190 - 0s - loss: 8.5981e-05\n",
            "Epoch 26/100\n",
            "190/190 - 0s - loss: 8.5945e-05\n",
            "Epoch 27/100\n",
            "190/190 - 0s - loss: 8.1879e-05\n",
            "Epoch 28/100\n",
            "190/190 - 0s - loss: 8.7598e-05\n",
            "Epoch 29/100\n",
            "190/190 - 0s - loss: 8.2204e-05\n",
            "Epoch 30/100\n",
            "190/190 - 0s - loss: 8.2566e-05\n",
            "Epoch 31/100\n",
            "190/190 - 0s - loss: 8.2314e-05\n",
            "Epoch 32/100\n",
            "190/190 - 0s - loss: 8.5982e-05\n",
            "Epoch 33/100\n",
            "190/190 - 0s - loss: 8.4052e-05\n",
            "Epoch 34/100\n",
            "190/190 - 0s - loss: 8.7232e-05\n",
            "Epoch 35/100\n",
            "190/190 - 0s - loss: 8.2249e-05\n",
            "Epoch 36/100\n",
            "190/190 - 0s - loss: 8.0480e-05\n",
            "Epoch 37/100\n",
            "190/190 - 0s - loss: 8.5670e-05\n",
            "Epoch 38/100\n",
            "190/190 - 0s - loss: 8.1137e-05\n",
            "Epoch 39/100\n",
            "190/190 - 0s - loss: 8.4070e-05\n",
            "Epoch 40/100\n",
            "190/190 - 0s - loss: 8.6614e-05\n",
            "Epoch 41/100\n",
            "190/190 - 0s - loss: 8.1098e-05\n",
            "Epoch 42/100\n",
            "190/190 - 0s - loss: 8.0762e-05\n",
            "Epoch 43/100\n",
            "190/190 - 0s - loss: 8.9716e-05\n",
            "Epoch 44/100\n",
            "190/190 - 0s - loss: 8.0005e-05\n",
            "Epoch 45/100\n",
            "190/190 - 0s - loss: 8.1404e-05\n",
            "Epoch 46/100\n",
            "190/190 - 0s - loss: 9.4741e-05\n",
            "Epoch 47/100\n",
            "190/190 - 0s - loss: 8.1829e-05\n",
            "Epoch 48/100\n",
            "190/190 - 0s - loss: 8.3780e-05\n",
            "Epoch 49/100\n",
            "190/190 - 0s - loss: 8.4469e-05\n",
            "Epoch 50/100\n",
            "190/190 - 0s - loss: 8.5285e-05\n",
            "Epoch 51/100\n",
            "190/190 - 0s - loss: 8.0802e-05\n",
            "Epoch 52/100\n",
            "190/190 - 0s - loss: 8.9554e-05\n",
            "Epoch 53/100\n",
            "190/190 - 0s - loss: 8.9936e-05\n",
            "Epoch 54/100\n",
            "190/190 - 0s - loss: 8.2553e-05\n",
            "Epoch 55/100\n",
            "190/190 - 0s - loss: 8.7228e-05\n",
            "Epoch 56/100\n",
            "190/190 - 0s - loss: 8.5830e-05\n",
            "Epoch 57/100\n",
            "190/190 - 0s - loss: 8.1838e-05\n",
            "Epoch 58/100\n",
            "190/190 - 0s - loss: 8.1503e-05\n",
            "Epoch 59/100\n",
            "190/190 - 0s - loss: 8.0027e-05\n",
            "Epoch 60/100\n",
            "190/190 - 0s - loss: 8.6671e-05\n",
            "Epoch 61/100\n",
            "190/190 - 0s - loss: 8.8565e-05\n",
            "Epoch 62/100\n",
            "190/190 - 0s - loss: 8.2194e-05\n",
            "Epoch 63/100\n",
            "190/190 - 0s - loss: 8.3740e-05\n",
            "Epoch 64/100\n",
            "190/190 - 0s - loss: 8.7680e-05\n",
            "Epoch 65/100\n",
            "190/190 - 0s - loss: 8.6799e-05\n",
            "Epoch 66/100\n",
            "190/190 - 0s - loss: 8.7783e-05\n",
            "Epoch 67/100\n",
            "190/190 - 0s - loss: 8.7604e-05\n",
            "Epoch 68/100\n",
            "190/190 - 0s - loss: 8.6527e-05\n",
            "Epoch 69/100\n",
            "190/190 - 0s - loss: 8.2175e-05\n",
            "Epoch 70/100\n",
            "190/190 - 0s - loss: 8.8915e-05\n",
            "Epoch 71/100\n",
            "190/190 - 0s - loss: 8.8288e-05\n",
            "Epoch 72/100\n",
            "190/190 - 0s - loss: 7.9184e-05\n",
            "Epoch 73/100\n",
            "190/190 - 0s - loss: 7.9379e-05\n",
            "Epoch 74/100\n",
            "190/190 - 0s - loss: 7.7132e-05\n",
            "Epoch 75/100\n",
            "190/190 - 0s - loss: 8.8611e-05\n",
            "Epoch 76/100\n",
            "190/190 - 0s - loss: 8.3625e-05\n",
            "Epoch 77/100\n",
            "190/190 - 0s - loss: 8.5493e-05\n",
            "Epoch 78/100\n",
            "190/190 - 0s - loss: 8.3947e-05\n",
            "Epoch 79/100\n",
            "190/190 - 0s - loss: 8.0521e-05\n",
            "Epoch 80/100\n",
            "190/190 - 0s - loss: 8.6615e-05\n",
            "Epoch 81/100\n",
            "190/190 - 0s - loss: 8.1972e-05\n",
            "Epoch 82/100\n",
            "190/190 - 0s - loss: 8.9627e-05\n",
            "Epoch 83/100\n",
            "190/190 - 0s - loss: 8.0724e-05\n",
            "Epoch 84/100\n",
            "190/190 - 0s - loss: 8.0302e-05\n",
            "Epoch 85/100\n",
            "190/190 - 0s - loss: 8.9148e-05\n",
            "Epoch 86/100\n",
            "190/190 - 0s - loss: 8.3883e-05\n",
            "Epoch 87/100\n",
            "190/190 - 0s - loss: 8.0597e-05\n",
            "Epoch 88/100\n",
            "190/190 - 0s - loss: 8.3597e-05\n",
            "Epoch 89/100\n",
            "190/190 - 0s - loss: 8.3250e-05\n",
            "Epoch 90/100\n",
            "190/190 - 0s - loss: 8.6317e-05\n",
            "Epoch 91/100\n",
            "190/190 - 0s - loss: 8.1597e-05\n",
            "Epoch 92/100\n",
            "190/190 - 0s - loss: 9.0128e-05\n",
            "Epoch 93/100\n",
            "190/190 - 0s - loss: 8.2305e-05\n",
            "Epoch 94/100\n",
            "190/190 - 0s - loss: 8.9217e-05\n",
            "Epoch 95/100\n",
            "190/190 - 0s - loss: 8.1163e-05\n",
            "Epoch 96/100\n",
            "190/190 - 0s - loss: 8.0859e-05\n",
            "Epoch 97/100\n",
            "190/190 - 0s - loss: 8.4899e-05\n",
            "Epoch 98/100\n",
            "190/190 - 0s - loss: 8.7407e-05\n",
            "Epoch 99/100\n",
            "190/190 - 0s - loss: 8.1923e-05\n",
            "Epoch 100/100\n",
            "190/190 - 0s - loss: 8.5462e-05\n"
          ],
          "name": "stdout"
        },
        {
          "output_type": "execute_result",
          "data": {
            "text/plain": [
              "<tensorflow.python.keras.callbacks.History at 0x7f9a189fa790>"
            ]
          },
          "metadata": {
            "tags": []
          },
          "execution_count": 42
        }
      ]
    },
    {
      "cell_type": "code",
      "metadata": {
        "colab": {
          "base_uri": "https://localhost:8080/"
        },
        "id": "yStoUEZ-5knD",
        "outputId": "0b599fed-0f1e-4b73-83cf-fa5549934bc7"
      },
      "source": [
        "# make predictions\n",
        "trainPredict = model.predict(trainX)\n",
        "testPredict = model.predict(testX)\n",
        "# invert predictions\n",
        "trainPredict = scaler.inverse_transform(trainPredict)\n",
        "trainY = scaler.inverse_transform([trainY])\n",
        "testPredict = scaler.inverse_transform(testPredict)\n",
        "testY = scaler.inverse_transform([testY])\n",
        "# calculate root mean squared error\n",
        "trainScore = math.sqrt(mean_squared_error(trainY[0], trainPredict[:,0]))\n",
        "print('Train Score: %.2f RMSE' % (trainScore))\n",
        "testScore = math.sqrt(mean_squared_error(testY[0], testPredict[:,0]))\n",
        "print('Test Score: %.2f RMSE' % (testScore))"
      ],
      "execution_count": null,
      "outputs": [
        {
          "output_type": "stream",
          "text": [
            "Train Score: 17.35 RMSE\n",
            "Test Score: 174.92 RMSE\n"
          ],
          "name": "stdout"
        }
      ]
    },
    {
      "cell_type": "code",
      "metadata": {
        "colab": {
          "base_uri": "https://localhost:8080/",
          "height": 265
        },
        "id": "w__4QGGr5suv",
        "outputId": "81274a77-a799-44c5-a182-d8b9844659f6"
      },
      "source": [
        "# shift train predictions for plotting\n",
        "trainPredictPlot = np.empty_like(dataset)\n",
        "trainPredictPlot[:, :] = np.nan\n",
        "trainPredictPlot[look_back:len(trainPredict)+look_back, :] = trainPredict\n",
        "# shift test predictions for plotting\n",
        "testPredictPlot = np.empty_like(dataset)\n",
        "testPredictPlot[:, :] = np.nan\n",
        "testPredictPlot[len(trainPredict)+(look_back*2)+1:len(dataset)-1, :] = testPredict\n",
        "# plot baseline and predictions\n",
        "plt.plot(scaler.inverse_transform(dataset))\n",
        "plt.plot(trainPredictPlot)\n",
        "plt.plot(testPredictPlot)\n",
        "plt.show()"
      ],
      "execution_count": null,
      "outputs": [
        {
          "output_type": "display_data",
          "data": {
            "image/png": "[encoded data removed]",
            "text/plain": [
              "<Figure size 432x288 with 1 Axes>"
            ]
          },
          "metadata": {
            "tags": [],
            "needs_background": "light"
          }
        }
      ]
    }
  ]
}